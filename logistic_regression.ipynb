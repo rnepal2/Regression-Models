{
 "cells": [
  {
   "cell_type": "markdown",
   "metadata": {},
   "source": [
    "## Logistic Regression: Multi-Class Classification\n",
    "\n",
    "#### Softmax Logistic Regression\n",
    "\n",
    "Implements the custom softmax logistic regression model using gradient descent algorithm and tests it in the classification of iris dataset."
   ]
  },
  {
   "cell_type": "code",
   "execution_count": 6,
   "metadata": {},
   "outputs": [],
   "source": [
    "# dependencies\n",
    "\n",
    "import math\n",
    "import re\n",
    "import numpy as np\n",
    "import pandas as pd\n",
    "import random \n",
    "from operator import itemgetter\n",
    "\n",
    "import seaborn as sns\n",
    "import matplotlib.pyplot as plt\n",
    "%matplotlib inline"
   ]
  },
  {
   "cell_type": "code",
   "execution_count": 7,
   "metadata": {},
   "outputs": [],
   "source": [
    "# importing following custom implemented functions from file metrics.py\n",
    "\n",
    "from metrics import precision_score, accuracy_score, recall_score, f1_score, confusion_matrix"
   ]
  },
  {
   "cell_type": "markdown",
   "metadata": {},
   "source": [
    "### Model Code"
   ]
  },
  {
   "cell_type": "code",
   "execution_count": 88,
   "metadata": {},
   "outputs": [],
   "source": [
    "# each class label is converted into one hot labels\n",
    "# which is each labe becomes a one D array with 1 in \n",
    "# the corresponding class position and 0 in the rest\n",
    "# because we are modelling multinomial distribution\n",
    "\n",
    "def one_hot_labels(y):\n",
    "    # if list => to array\n",
    "    y = np.array(y)\n",
    "    unique_classes = np.unique(y)\n",
    "    labels = np.zeros((y.shape[0], unique_classes.shape[0]))\n",
    "    for i, label in enumerate(y):\n",
    "        labels[i][label] = 1 \n",
    "    return labels"
   ]
  },
  {
   "cell_type": "code",
   "execution_count": 89,
   "metadata": {},
   "outputs": [
    {
     "data": {
      "text/plain": [
       "array([[0., 0., 1., 0.],\n",
       "       [0., 1., 0., 0.],\n",
       "       [0., 0., 1., 0.],\n",
       "       [1., 0., 0., 0.],\n",
       "       [1., 0., 0., 0.],\n",
       "       [0., 0., 0., 1.]])"
      ]
     },
     "execution_count": 89,
     "metadata": {},
     "output_type": "execute_result"
    }
   ],
   "source": [
    "test = np.random.randint(0, 4, (6, ))\n",
    "one_hot_labels(test)"
   ]
  },
  {
   "cell_type": "code",
   "execution_count": 90,
   "metadata": {},
   "outputs": [],
   "source": [
    "def softmax(score):\n",
    "    softmax_score = np.empty(score.shape)\n",
    "    for i in range(len(score)):\n",
    "        softmax_score[i] = np.exp(score[i]) / sum(np.exp(score[i][j]) for j in range(len(score[i])))\n",
    "    return softmax_score"
   ]
  },
  {
   "cell_type": "code",
   "execution_count": 92,
   "metadata": {},
   "outputs": [
    {
     "data": {
      "text/plain": [
       "array([[0.27610482, 0.28679138, 0.16158477, 0.27551904],\n",
       "       [0.21164237, 0.1654059 , 0.28460103, 0.33835071],\n",
       "       [0.27472043, 0.22011698, 0.23922955, 0.26593304],\n",
       "       [0.16258627, 0.23708716, 0.39787835, 0.20244821],\n",
       "       [0.28604245, 0.22303476, 0.1849667 , 0.30595608]])"
      ]
     },
     "execution_count": 92,
     "metadata": {},
     "output_type": "execute_result"
    }
   ],
   "source": [
    "# score: test = N * C\n",
    "test = np.random.rand(5, 4)\n",
    "softmax(test)"
   ]
  },
  {
   "cell_type": "code",
   "execution_count": 93,
   "metadata": {},
   "outputs": [
    {
     "data": {
      "text/plain": [
       "array([1., 1., 1., 1., 1.])"
      ]
     },
     "execution_count": 93,
     "metadata": {},
     "output_type": "execute_result"
    }
   ],
   "source": [
    "np.sum(softmax(test), axis=1)"
   ]
  },
  {
   "cell_type": "code",
   "execution_count": 94,
   "metadata": {},
   "outputs": [],
   "source": [
    "def cross_entropy_loss(y_one_hot, y_proba):\n",
    "    '''\n",
    "    Arguments:\n",
    "        y_one_hot : \n",
    "            ndarray\n",
    "            A matrix containing a one-hot vector of class indices/labels for each\n",
    "            instance.\n",
    "        y_proba : \n",
    "            ndarray\n",
    "            Probability of a sample belonging to various classes.\n",
    "    '''\n",
    "    assert y_one_hot.shape ==  y_proba.shape\n",
    "    \n",
    "    # avoiding log(0) divergence\n",
    "\n",
    "    cost = 0.0\n",
    "    for i in range(len(y_one_hot)):\n",
    "        for j in range(len(y_one_hot[i])):            \n",
    "            cost += -y_one_hot[i][j] * math.log(y_proba[i][j] + 1e-15)\n",
    "    return cost / len(y_one_hot)"
   ]
  },
  {
   "cell_type": "code",
   "execution_count": 95,
   "metadata": {},
   "outputs": [
    {
     "data": {
      "text/plain": [
       "1.8554471732506634"
      ]
     },
     "execution_count": 95,
     "metadata": {},
     "output_type": "execute_result"
    }
   ],
   "source": [
    "cross_entropy_loss(np.random.rand(10, 4), np.random.rand(10, 4))"
   ]
  },
  {
   "cell_type": "markdown",
   "metadata": {},
   "source": [
    "### Softmax Logistic Regression "
   ]
  },
  {
   "cell_type": "code",
   "execution_count": 111,
   "metadata": {},
   "outputs": [],
   "source": [
    "# implements the SoftmaxLogisticRegression model\n",
    "class SoftmaxRegression:\n",
    "    \n",
    "    def __init__(self):\n",
    "        self.error0 = None\n",
    "        self.theta = None\n",
    "        self.intercept_ = None\n",
    "        self.coef_ = None\n",
    "        # this list stores scores for early stopping\n",
    "        self.training_scores = None\n",
    "        self.validation_scores = None\n",
    "        \n",
    "    def softmax(self, score):\n",
    "        softmax_score = np.empty(score.shape)\n",
    "        for i in range(len(score)):\n",
    "            softmax_score[i] = np.exp(score[i]) / sum(np.exp(score[i][j]) for j in range(len(score[i])))\n",
    "        return softmax_score\n",
    "    \n",
    "    # returns cost with l2-regularization\n",
    "    def l1_cost(self, W, X, y, lambd):\n",
    "        y_pred = np.dot(X, W)\n",
    "        cross_entropy = cross_entropy_loss(y_pred, y)\n",
    "        penalty = (lambd/2) * np.sum(np.sum(W, axis=1), axis=0)\n",
    "        return cross_entropy + penalty\n",
    "    \n",
    "    # returns cost with l2-regularization\n",
    "    def l2_cost(self, W, X, y, lambd):\n",
    "        y_pred = np.dot(X, W)\n",
    "        cross_entropy = cross_entropy_loss(y_pred, y)\n",
    "        Wjc_square = np.square(W)\n",
    "        penalty = (lambd/2) * np.sum(np.sum(Wjc_square, axis=1), axis=0)\n",
    "        return cross_entropy + penalty\n",
    "    \n",
    "    # decides wether to force break due to tolerance \n",
    "    def tolerance_break(self, epoch, error, tol):\n",
    "        force_break = False\n",
    "        if epoch == 0:\n",
    "            self.error0 = error\n",
    "        if tol and epoch > 0:\n",
    "            if error > self.error0 - tol:\n",
    "                force_break = True\n",
    "        self.error0 = error\n",
    "        #if force_break is True:\n",
    "        #    print('Forcefully breaking at epoch = ', epoch)\n",
    "        return force_break\n",
    "    \n",
    "    def mu(self, W, X):\n",
    "        val = np.exp(np.dot(X, W))\n",
    "        norm = np.sum(np.exp(np.dot(X, W)), axis=0)\n",
    "        return np.divide(val, np.array(norm)) \n",
    "    \n",
    "    \n",
    "    def fit(self, X, y, learning_rate=0.01, epochs=1000, tol=None, regularizer=None, \n",
    "            early_stopping=False, n_iter_no_change=50, validation_fraction=0.1, lambd=0.0, **kwargs):\n",
    "        \n",
    "        # adding a unit column in the input data: to find intercept\n",
    "        X = np.c_[np.ones((X.shape[0], 1)), X]\n",
    "        \n",
    "        # if early stopping: separate validation dataset\n",
    "        if early_stopping:\n",
    "            (X, X_val), (y, y_val) = train_test_split(X, y, test_size=validation_fraction)\n",
    "            self.training_scores = list()\n",
    "            self.validation_scores = list()\n",
    "        \n",
    "        # number of samples and features\n",
    "        n_samples, n_features = X.shape[0], X.shape[1]\n",
    "        \n",
    "        # initializing theta/weight\n",
    "        np.random.seed(seed=100)\n",
    "        \n",
    "        #C = np.unique(y).shape[0]\n",
    "        C = y.shape[1]\n",
    "        theta_hat = np.random.rand(n_features, C)\n",
    "        \n",
    "        coeff = learning_rate/n_samples\n",
    "        force_break = False\n",
    "        stop = False\n",
    "        for epoch in range(epochs):\n",
    "            if not regularizer:\n",
    "                theta_hat = theta_hat - coeff * np.dot(X.T, self.mu(theta_hat, X) - y)\n",
    "                error = cross_entropy_loss(np.dot(X, theta_hat), y)\n",
    "                \n",
    "            if regularizer == 'l1':\n",
    "                theta_hat = theta_hat - coeff * (np.dot(X.T, self.mu(theta_hat, X) - y) + lambd * np.sign(theta_hat))\n",
    "                error = self.l1_cost(theta_hat, X, y, lambd)\n",
    "                \n",
    "            if regularizer == 'l2':\n",
    "                theta_hat = theta_hat - coeff * (np.dot(X.T, self.mu(theta_hat, X) - y) + lambd * theta_hat)\n",
    "                error = self.l2_cost(theta_hat, X, y, lambd)\n",
    "                \n",
    "            # Forced stopping: if tolerance is given\n",
    "            if tol:\n",
    "                if self.tolerance_break(epoch, error, tol) is True:\n",
    "                    break \n",
    "            \n",
    "            # Early Stopping\n",
    "            if early_stopping:\n",
    "                stop = self.early_stop(epoch, theta_hat,X, y, X_val, y_val, n_iter_no_change)\n",
    "            if stop is True:\n",
    "                print('early stopping enforced at epoch = ', epoch)\n",
    "                break\n",
    "\n",
    "        self.theta = theta_hat\n",
    "        self.intercept_ = theta_hat[0]\n",
    "        self.coef_ = theta_hat[1:]\n",
    "        \n",
    "    def early_stop(self, epoch, theta_hat, X_train, y_train, X_val, y_val, n_iter_no_change):\n",
    "        # on training data\n",
    "        y_train_pred = self.softmax(np.dot(X_train, theta_hat))\n",
    "        y_train_pred = np.argmax(y_train_pred, axis=1)\n",
    "        y_train = np.argmax(y_train, axis=1)\n",
    "        confusion = confusion_matrix(y_train, y_train_pred)\n",
    "        accuracy = np.sum(confusion.diagonal())/np.sum(confusion)\n",
    "        # storing training accuracy\n",
    "        self.training_scores.append(accuracy)\n",
    "        \n",
    "        # on validation data\n",
    "        y_val_pred = self.softmax(np.dot(X_val, theta_hat))\n",
    "        y_val_pred = np.argmax(y_val_pred, axis=1)\n",
    "        y_val = np.argmax(y_val, axis=1)\n",
    "        confusion = confusion_matrix(y_val, y_val_pred)\n",
    "        accuracy = np.sum(confusion.diagonal())/np.sum(confusion)\n",
    "        # storing validation accuracy\n",
    "        self.validation_scores.append(accuracy)\n",
    "        if len(self.validation_scores) < n_iter_no_change+1:\n",
    "            return False\n",
    "        \n",
    "        # Breaking condition\n",
    "        stop = False\n",
    "        end = len(self.validation_scores)-1\n",
    "        for i in range(end-n_iter_no_change, end):\n",
    "            if self.validation_scores[i] == self.validation_scores[i+1]:\n",
    "                stop = True\n",
    "            else:\n",
    "                stop = False\n",
    "                break\n",
    "        return stop\n",
    "    \n",
    "    # plots early stopping curve\n",
    "    def early_stopping_curve(self):\n",
    "        if self.validation_scores is None:\n",
    "            raise ValueError('Early stopping training not done!')\n",
    "        else:\n",
    "            error_training = [1 - val for val in self.training_scores]\n",
    "            error_validation = [1 - val for val in self.validation_scores]\n",
    "            plt.plot(error_training, c='r', label='training')\n",
    "            plt.plot(error_validation, c='b', label='validation')\n",
    "            plt.legend()\n",
    "            plt.title('Early-stopping curve')\n",
    "            plt.xlabel('Epoch')\n",
    "            plt.ylabel('1 - accuracy')\n",
    "            plt.show()\n",
    "            \n",
    "    # prediction \n",
    "    def predict(self, X):\n",
    "        '''also adding ones column into test data: gives intercept''' \n",
    "        X = np.c_[np.ones((X.shape[0], 1)), X]\n",
    "        \n",
    "        if self.theta is None:\n",
    "            raise ValueError('The model is not fitted yet!')\n",
    "            \n",
    "        return self.softmax(np.dot(X, self.theta))"
   ]
  },
  {
   "cell_type": "markdown",
   "metadata": {},
   "source": [
    "### Exploratory Data Anaylsis"
   ]
  },
  {
   "cell_type": "code",
   "execution_count": 3,
   "metadata": {},
   "outputs": [],
   "source": [
    "from sklearn import datasets"
   ]
  },
  {
   "cell_type": "markdown",
   "metadata": {},
   "source": [
    "#### Uses the sklearn iris dataset"
   ]
  },
  {
   "cell_type": "code",
   "execution_count": 99,
   "metadata": {},
   "outputs": [],
   "source": [
    "iris = datasets.load_iris()"
   ]
  },
  {
   "cell_type": "code",
   "execution_count": 100,
   "metadata": {},
   "outputs": [
    {
     "data": {
      "text/html": [
       "<div>\n",
       "<style scoped>\n",
       "    .dataframe tbody tr th:only-of-type {\n",
       "        vertical-align: middle;\n",
       "    }\n",
       "\n",
       "    .dataframe tbody tr th {\n",
       "        vertical-align: top;\n",
       "    }\n",
       "\n",
       "    .dataframe thead th {\n",
       "        text-align: right;\n",
       "    }\n",
       "</style>\n",
       "<table border=\"1\" class=\"dataframe\">\n",
       "  <thead>\n",
       "    <tr style=\"text-align: right;\">\n",
       "      <th></th>\n",
       "      <th>0</th>\n",
       "      <th>1</th>\n",
       "      <th>2</th>\n",
       "      <th>3</th>\n",
       "    </tr>\n",
       "  </thead>\n",
       "  <tbody>\n",
       "    <tr>\n",
       "      <th>count</th>\n",
       "      <td>150.000000</td>\n",
       "      <td>150.000000</td>\n",
       "      <td>150.000000</td>\n",
       "      <td>150.000000</td>\n",
       "    </tr>\n",
       "    <tr>\n",
       "      <th>mean</th>\n",
       "      <td>5.843333</td>\n",
       "      <td>3.057333</td>\n",
       "      <td>3.758000</td>\n",
       "      <td>1.199333</td>\n",
       "    </tr>\n",
       "    <tr>\n",
       "      <th>std</th>\n",
       "      <td>0.828066</td>\n",
       "      <td>0.435866</td>\n",
       "      <td>1.765298</td>\n",
       "      <td>0.762238</td>\n",
       "    </tr>\n",
       "    <tr>\n",
       "      <th>min</th>\n",
       "      <td>4.300000</td>\n",
       "      <td>2.000000</td>\n",
       "      <td>1.000000</td>\n",
       "      <td>0.100000</td>\n",
       "    </tr>\n",
       "    <tr>\n",
       "      <th>25%</th>\n",
       "      <td>5.100000</td>\n",
       "      <td>2.800000</td>\n",
       "      <td>1.600000</td>\n",
       "      <td>0.300000</td>\n",
       "    </tr>\n",
       "    <tr>\n",
       "      <th>50%</th>\n",
       "      <td>5.800000</td>\n",
       "      <td>3.000000</td>\n",
       "      <td>4.350000</td>\n",
       "      <td>1.300000</td>\n",
       "    </tr>\n",
       "    <tr>\n",
       "      <th>75%</th>\n",
       "      <td>6.400000</td>\n",
       "      <td>3.300000</td>\n",
       "      <td>5.100000</td>\n",
       "      <td>1.800000</td>\n",
       "    </tr>\n",
       "    <tr>\n",
       "      <th>max</th>\n",
       "      <td>7.900000</td>\n",
       "      <td>4.400000</td>\n",
       "      <td>6.900000</td>\n",
       "      <td>2.500000</td>\n",
       "    </tr>\n",
       "  </tbody>\n",
       "</table>\n",
       "</div>"
      ],
      "text/plain": [
       "                0           1           2           3\n",
       "count  150.000000  150.000000  150.000000  150.000000\n",
       "mean     5.843333    3.057333    3.758000    1.199333\n",
       "std      0.828066    0.435866    1.765298    0.762238\n",
       "min      4.300000    2.000000    1.000000    0.100000\n",
       "25%      5.100000    2.800000    1.600000    0.300000\n",
       "50%      5.800000    3.000000    4.350000    1.300000\n",
       "75%      6.400000    3.300000    5.100000    1.800000\n",
       "max      7.900000    4.400000    6.900000    2.500000"
      ]
     },
     "execution_count": 100,
     "metadata": {},
     "output_type": "execute_result"
    }
   ],
   "source": [
    "pd.DataFrame(iris['data']).describe()"
   ]
  },
  {
   "cell_type": "code",
   "execution_count": 101,
   "metadata": {},
   "outputs": [],
   "source": [
    "iris_df = pd.DataFrame(iris['data'])\n",
    "iris_df['target'] = iris['target']"
   ]
  },
  {
   "cell_type": "code",
   "execution_count": 102,
   "metadata": {},
   "outputs": [
    {
     "data": {
      "text/html": [
       "<div>\n",
       "<style scoped>\n",
       "    .dataframe tbody tr th:only-of-type {\n",
       "        vertical-align: middle;\n",
       "    }\n",
       "\n",
       "    .dataframe tbody tr th {\n",
       "        vertical-align: top;\n",
       "    }\n",
       "\n",
       "    .dataframe thead th {\n",
       "        text-align: right;\n",
       "    }\n",
       "</style>\n",
       "<table border=\"1\" class=\"dataframe\">\n",
       "  <thead>\n",
       "    <tr style=\"text-align: right;\">\n",
       "      <th></th>\n",
       "      <th>0</th>\n",
       "      <th>1</th>\n",
       "      <th>2</th>\n",
       "      <th>3</th>\n",
       "      <th>target</th>\n",
       "    </tr>\n",
       "  </thead>\n",
       "  <tbody>\n",
       "    <tr>\n",
       "      <th>0</th>\n",
       "      <td>5.1</td>\n",
       "      <td>3.5</td>\n",
       "      <td>1.4</td>\n",
       "      <td>0.2</td>\n",
       "      <td>0</td>\n",
       "    </tr>\n",
       "    <tr>\n",
       "      <th>1</th>\n",
       "      <td>4.9</td>\n",
       "      <td>3.0</td>\n",
       "      <td>1.4</td>\n",
       "      <td>0.2</td>\n",
       "      <td>0</td>\n",
       "    </tr>\n",
       "    <tr>\n",
       "      <th>2</th>\n",
       "      <td>4.7</td>\n",
       "      <td>3.2</td>\n",
       "      <td>1.3</td>\n",
       "      <td>0.2</td>\n",
       "      <td>0</td>\n",
       "    </tr>\n",
       "    <tr>\n",
       "      <th>3</th>\n",
       "      <td>4.6</td>\n",
       "      <td>3.1</td>\n",
       "      <td>1.5</td>\n",
       "      <td>0.2</td>\n",
       "      <td>0</td>\n",
       "    </tr>\n",
       "    <tr>\n",
       "      <th>4</th>\n",
       "      <td>5.0</td>\n",
       "      <td>3.6</td>\n",
       "      <td>1.4</td>\n",
       "      <td>0.2</td>\n",
       "      <td>0</td>\n",
       "    </tr>\n",
       "  </tbody>\n",
       "</table>\n",
       "</div>"
      ],
      "text/plain": [
       "     0    1    2    3  target\n",
       "0  5.1  3.5  1.4  0.2       0\n",
       "1  4.9  3.0  1.4  0.2       0\n",
       "2  4.7  3.2  1.3  0.2       0\n",
       "3  4.6  3.1  1.5  0.2       0\n",
       "4  5.0  3.6  1.4  0.2       0"
      ]
     },
     "execution_count": 102,
     "metadata": {},
     "output_type": "execute_result"
    }
   ],
   "source": [
    "iris_df.head()"
   ]
  },
  {
   "cell_type": "code",
   "execution_count": 103,
   "metadata": {},
   "outputs": [],
   "source": [
    "# shuffling\n",
    "iris_df = iris_df.sample(frac=1.0, random_state=19)"
   ]
  },
  {
   "cell_type": "code",
   "execution_count": 104,
   "metadata": {},
   "outputs": [],
   "source": [
    "import warnings\n",
    "warnings.filterwarnings(action='ignore', category=RuntimeWarning)\n",
    "warnings.filterwarnings(action='ignore', category=FutureWarning)"
   ]
  },
  {
   "cell_type": "code",
   "execution_count": 105,
   "metadata": {},
   "outputs": [
    {
     "data": {
      "image/png": "[encoded data removed]",
      "text/plain": [
       "<Figure size 942.375x900 with 30 Axes>"
      ]
     },
     "metadata": {
      "needs_background": "light"
     },
     "output_type": "display_data"
    }
   ],
   "source": [
    "# Pairplot\n",
    "sns.pairplot(data=iris_df, hue='target');"
   ]
  },
  {
   "cell_type": "code",
   "execution_count": 106,
   "metadata": {},
   "outputs": [],
   "source": [
    "for column in iris_df.columns:\n",
    "    if column == 'target':\n",
    "        continue\n",
    "    # feature standardization  \n",
    "    iris_df[column] = iris_df[column].apply(lambda x: (x - iris_df[column].mean())/iris_df[column].std())"
   ]
  },
  {
   "cell_type": "code",
   "execution_count": 107,
   "metadata": {},
   "outputs": [],
   "source": [
    "y = iris_df['target']\n",
    "# one hot labels conversion\n",
    "y_ = one_hot_labels(y.values)\n",
    "\n",
    "X = iris_df.drop(columns='target', inplace=False)\n",
    "\n",
    "# splitting into test/validation set\n",
    "(X_train, X_test), (y_train, y_test) = train_test_split(X, y_, test_size=0.2)"
   ]
  },
  {
   "cell_type": "markdown",
   "metadata": {},
   "source": [
    "## Model Evaluation\n",
    "#### Hyperparamater tuning"
   ]
  },
  {
   "cell_type": "code",
   "execution_count": 116,
   "metadata": {},
   "outputs": [],
   "source": [
    "# returns the prediction dictionary for each fold of cross validation\n",
    "def for_each_fold(fold, folds, data, labels, model, model_args=None, error_function=None):\n",
    "    # fold - train/val dataset\n",
    "    (x_train, x_test), (y_train, y_test) = k_partition(data, labels, fold, folds)\n",
    "    # one-hot labels\n",
    "    y_train = one_hot_labels(y_train)\n",
    "    y_test = one_hot_labels(y_test)\n",
    "    \n",
    "    # settting up model fitting paramters\n",
    "    if model_args:\n",
    "        if 'learning_rate' in model_args.keys():\n",
    "            learning_rate=model_args['learning_rate']\n",
    "        else:\n",
    "            learning_rate=0.01\n",
    "        if 'epochs' in model_args.keys():\n",
    "            epochs=model_args['epochs']\n",
    "        else:\n",
    "            epochs=100\n",
    "        if 'regularizer' in model_args.keys():\n",
    "            regularizer=model_args['regularizer']\n",
    "        else:\n",
    "            regularizer='l2'\n",
    "        if 'tol' in model_args.keys():\n",
    "            tol=model_args['tol']\n",
    "        else:\n",
    "            tol=None\n",
    "        if 'lambd' in model_args.keys():\n",
    "            lambd=model_args['lambd']\n",
    "        else:\n",
    "            lambd=1.0\n",
    "        if 'early_stopping' in model_args.keys():\n",
    "            early_stopping=model_args['early_stopping']\n",
    "        else:\n",
    "            early_stopping=False\n",
    "        if 'validation_fraction' in model_args.keys():\n",
    "            validation_fraction = model_args['validation_fraction']\n",
    "        else:\n",
    "            validation_fraction=0.1\n",
    "            \n",
    "    # model fitting\n",
    "    model.fit(x_train, y_train, learning_rate=learning_rate, epochs=epochs, tol=tol, regularizer=regularizer,\n",
    "               early_stopping=early_stopping, validation_fraction=validation_fraction, lambd=lambd)\n",
    "    y_pred = model.predict(x_test)\n",
    "\n",
    "    # prediction and accuracy\n",
    "    y_pred = np.argmax(y_pred, axis=1)\n",
    "    y_test = np.argmax(y_test, axis=1)\n",
    "    if error_function == 'accuracy': \n",
    "        confusion_mat = confusion_matrix(y_pred, y_test.flatten())\n",
    "        accuracy = np.sum(confusion_mat.diagonal())/np.sum(confusion_mat)\n",
    "    return accuracy\n",
    "\n",
    "# Cross-Validation function\n",
    "def kFold(folds, data, labels, model, model_args=None, error_function=None):\n",
    "    if error_function is None:\n",
    "        error_function = 'accuracy'\n",
    "        \n",
    "    scores = list()    \n",
    "    for fold in range(folds):\n",
    "        score = for_each_fold(fold, folds, data, labels, model, model_args=model_args, error_function=error_function)\n",
    "        scores.append(score)\n",
    "        \n",
    "    # returning n-fold scores array \n",
    "    return {\"accuracy\": scores, \"mean\": np.array(scores).mean()}"
   ]
  },
  {
   "cell_type": "code",
   "execution_count": 120,
   "metadata": {},
   "outputs": [],
   "source": [
    "# lambd = [1.0, 0.1, 0.01, 0.001, 0.0001]\n",
    "# tol = [0.001, 0.0001, 0.00001, 0.000001, 0.0000001]\n",
    "# learning_rate = [0.1, 0.01, 0.001]\n",
    "# regularizer = ['l1', 'l2']\n",
    "\n",
    "\n",
    "# After checking separately for subset of above parameters\n",
    "# I reduce it to the following smaller range to test for time saving\n",
    "\n",
    "lambd = [0.01,0.1, 1.0, 10]\n",
    "tol = [0.0001, 0.00001, 0.000001]\n",
    "learning_rate = [0.01, 0.05, 0.1]\n",
    "regularizer = ['l1', 'l2']"
   ]
  },
  {
   "cell_type": "code",
   "execution_count": 121,
   "metadata": {},
   "outputs": [],
   "source": [
    "# Hyperparameter greedy search\n",
    "\n",
    "def customGridSearchCV():\n",
    "    best_params = dict()\n",
    "    accuracy0 = 0.0\n",
    "    folds=5\n",
    "    for l in lambd:\n",
    "        for t in tol:\n",
    "            for lr in learning_rate:\n",
    "                for r in regularizer:\n",
    "                    model = SoftmaxRegression()\n",
    "                    model_args = {'learning_rate': lr, 'tol': t, 'regularizer': r, 'lambd': l}\n",
    "                    out = kFold(folds, X.values, y.values, model=model, model_args=model_args)\n",
    "                    mean_accuracy = out[\"mean\"]\n",
    "                    if mean_accuracy > accuracy0:\n",
    "                        best_params = model_args\n",
    "                        print(model_args)\n",
    "                        print('accuracy: ', mean_accuracy)\n",
    "                        accuracy0 = mean_accuracy\n",
    "    return best_params, {'accuracy': accuracy0}"
   ]
  },
  {
   "cell_type": "code",
   "execution_count": 122,
   "metadata": {},
   "outputs": [
    {
     "name": "stdout",
     "output_type": "stream",
     "text": [
      "{'learning_rate': 0.01, 'tol': 0.0001, 'regularizer': 'l1', 'lambd': 0.01}\n",
      "accuracy:  0.6666666666666666\n",
      "{'learning_rate': 0.05, 'tol': 0.0001, 'regularizer': 'l1', 'lambd': 0.01}\n",
      "accuracy:  0.74\n",
      "{'learning_rate': 0.1, 'tol': 0.0001, 'regularizer': 'l1', 'lambd': 0.01}\n",
      "accuracy:  0.7866666666666666\n"
     ]
    },
    {
     "data": {
      "text/plain": [
       "({'learning_rate': 0.1, 'tol': 0.0001, 'regularizer': 'l1', 'lambd': 0.01},\n",
       " {'accuracy': 0.7866666666666666})"
      ]
     },
     "execution_count": 122,
     "metadata": {},
     "output_type": "execute_result"
    }
   ],
   "source": [
    "customGridSearchCV()"
   ]
  },
  {
   "cell_type": "markdown",
   "metadata": {},
   "source": [
    "#### prediction on test data"
   ]
  },
  {
   "cell_type": "code",
   "execution_count": 123,
   "metadata": {},
   "outputs": [],
   "source": [
    "model = SoftmaxRegression()\n",
    "\n",
    "model.fit(X_train, y_train, learning_rate=0.1, epochs=1000, tol=1e-4, regularizer='l1',\n",
    "               early_stopping=False, lambd=0.01)"
   ]
  },
  {
   "cell_type": "code",
   "execution_count": 124,
   "metadata": {},
   "outputs": [],
   "source": [
    "# prediction on test data\n",
    "y_test_pred = model.predict(X_test)"
   ]
  },
  {
   "cell_type": "code",
   "execution_count": 125,
   "metadata": {},
   "outputs": [
    {
     "name": "stdout",
     "output_type": "stream",
     "text": [
      "confusion matrix: \n",
      " [[10.  0.  0.]\n",
      " [ 0.  6.  0.]\n",
      " [ 0.  6.  8.]]\n"
     ]
    }
   ],
   "source": [
    "confusion =confusion_matrix(np.argmax(y_test_pred, axis=1), np.argmax(y_test, axis=1))\n",
    "print('confusion matrix: \\n', confusion)"
   ]
  },
  {
   "cell_type": "code",
   "execution_count": 127,
   "metadata": {},
   "outputs": [
    {
     "name": "stdout",
     "output_type": "stream",
     "text": [
      "Accuracy:  0.8\n"
     ]
    }
   ],
   "source": [
    "print('Accuracy: ', np.sum(confusion.diagonal())/np.sum(confusion))"
   ]
  },
  {
   "cell_type": "markdown",
   "metadata": {},
   "source": [
    "####  Early stopping\n",
    "\n",
    "Early stopping method is implemented in the SoftmaxRegression model above.\n",
    "\n",
    "n_iter_no_change = stopped if no change in validation error for more than n_iter_no_change number of times."
   ]
  },
  {
   "cell_type": "code",
   "execution_count": 141,
   "metadata": {},
   "outputs": [
    {
     "name": "stdout",
     "output_type": "stream",
     "text": [
      "early stopping enforced at epoch =  604\n"
     ]
    }
   ],
   "source": [
    "model = SoftmaxRegression()\n",
    "model.fit(X_train, y_train, learning_rate=0.01, epochs=1000, tol=1e-5, regularizer='l1',\n",
    "               early_stopping=True, n_iter_no_change=250, validation_fraction=0.1, lambd=0.1)"
   ]
  },
  {
   "cell_type": "code",
   "execution_count": 142,
   "metadata": {},
   "outputs": [
    {
     "data": {
      "image/png": "[encoded data removed]",
      "text/plain": [
       "<Figure size 432x288 with 1 Axes>"
      ]
     },
     "metadata": {
      "needs_background": "light"
     },
     "output_type": "display_data"
    }
   ],
   "source": [
    "# early stopping curve plotting\n",
    "model.early_stopping_curve()"
   ]
  },
  {
   "cell_type": "markdown",
   "metadata": {},
   "source": [
    "#### Stochastic Softmax Regression\n",
    "\n",
    "implements the stochastic gradient descent alogrithm for softmax logistic regression"
   ]
  },
  {
   "cell_type": "code",
   "execution_count": 154,
   "metadata": {},
   "outputs": [],
   "source": [
    "class StochasticSoftmaxRegression:\n",
    "    \n",
    "    def __init__(self):\n",
    "        self.error0 = None\n",
    "        self.theta = None\n",
    "        self.intercept_ = None\n",
    "        self.coef_ = None\n",
    "        # this list stores scores for early stopping\n",
    "        self.training_scores = None\n",
    "        self.validation_scores = None\n",
    "        \n",
    "    def softmax(self, score):\n",
    "        softmax_score = np.empty(score.shape)\n",
    "        for i in range(len(score)):\n",
    "            softmax_score[i] = np.exp(score[i]) / sum(np.exp(score[i][j]) for j in range(len(score[i])))\n",
    "        return softmax_score\n",
    "    \n",
    "    # returns cost with l2-regularization\n",
    "    def l1_cost(self, W, X, y, lambd):\n",
    "        y_pred = np.dot(X, W)\n",
    "        cross_entropy = cross_entropy_loss(y_pred, y)\n",
    "        penalty = (lambd/2) * np.sum(np.sum(W, axis=1), axis=0)\n",
    "        return cross_entropy + penalty\n",
    "    \n",
    "    # returns cost with l2-regularization\n",
    "    def l2_cost(self, W, X, y, lambd):\n",
    "        y_pred = np.dot(X, W)\n",
    "        cross_entropy = cross_entropy_loss(y_pred, y)\n",
    "        Wjc_square = np.square(W)\n",
    "        penalty = (lambd/2) * np.sum(np.sum(Wjc_square, axis=1), axis=0)\n",
    "        return cross_entropy + penalty\n",
    "    \n",
    "    # decides wether to force break due to tolerance \n",
    "    def tolerance_break(self, epoch, error, tol):\n",
    "        force_break = False\n",
    "        if epoch == 0:\n",
    "            self.error0 = error\n",
    "        if tol and epoch > 0:\n",
    "            if error > self.error0 - tol:\n",
    "                force_break = True\n",
    "        self.error0 = error\n",
    "        #if force_break is True:\n",
    "        #    print('Forcefully breaking at epoch = ', epoch)\n",
    "        return force_break\n",
    "    \n",
    "    def mu(self, W, X):\n",
    "        val = np.exp(np.dot(X, W))\n",
    "        norm = np.sum(np.exp(np.dot(X, W)), axis=0)\n",
    "        return np.divide(val, np.array(norm)) \n",
    "    \n",
    "    \n",
    "    def fit(self, X, y, learning_rate=0.01, epochs=100, tol=None, regularizer=None, \n",
    "            early_stopping=False, n_iter_no_change=50, validation_fraction=0.1, lambd=0.0, **kwargs):\n",
    "        \n",
    "        # adding a unit column in the input data: to find intercept\n",
    "        X = np.c_[np.ones((X.shape[0], 1)), X]\n",
    "        \n",
    "        # if early stopping: separate validation dataset\n",
    "        if early_stopping:\n",
    "            (X, X_val), (y, y_val) = train_test_split(X, y, test_size=validation_fraction)\n",
    "            self.training_scores = list()\n",
    "            self.validation_scores = list()\n",
    "        \n",
    "        # number of samples and features\n",
    "        n_samples, n_features = X.shape[0], X.shape[1]\n",
    "        \n",
    "        # initializing theta/weight\n",
    "        np.random.seed(seed=100)\n",
    "        \n",
    "        #C = np.unique(y).shape[0]\n",
    "        C = y.shape[1]\n",
    "        theta_hat = np.random.rand(n_features, C)\n",
    "        \n",
    "        coeff = learning_rate/n_samples\n",
    "        force_break = False\n",
    "        stop = False\n",
    "        for epoch in range(epochs):\n",
    "            # random sample point: for each sample point in dataset at a time\n",
    "            random_samples = np.random.randint(0, len(X), (len(X), ))\n",
    "            for i in random_samples:\n",
    "                X_i, y_i = np.array([X[i]]), np.array([y[i]])\n",
    "                if not regularizer:\n",
    "                    theta_hat = theta_hat - coeff * np.dot(X_i.T, self.mu(theta_hat, X_i) - y_i)\n",
    "                    error = cross_entropy_loss(np.dot(X_i, theta_hat), y_i)\n",
    "\n",
    "                if regularizer == 'l1':\n",
    "                    theta_hat = theta_hat - coeff * (np.dot(X_i.T, self.mu(theta_hat, X_i) - y_i) + lambd * np.sign(theta_hat))\n",
    "                    error = self.l1_cost(theta_hat, X_i, y_i, lambd)\n",
    "\n",
    "                if regularizer == 'l2':\n",
    "                    theta_hat = theta_hat - coeff * (np.dot(X_i.T, self.mu(theta_hat, X_i) - y_i) + lambd * theta_hat)\n",
    "                    error = self.l2_cost(theta_hat, X_i, y_i, lambd)\n",
    "                \n",
    "            # Forced stopping: if tolerance is given\n",
    "            if tol:\n",
    "                if self.tolerance_break(epoch, error, tol) is True:\n",
    "                    break \n",
    "            \n",
    "            # Early Stopping\n",
    "            if early_stopping:\n",
    "                stop = self.early_stop(epoch, theta_hat, X, y, X_val, y_val, n_iter_no_change)\n",
    "            if stop is True:\n",
    "                print('early stopping enforced at epoch = ', epoch)\n",
    "                break\n",
    "\n",
    "        self.theta = theta_hat\n",
    "        self.intercept_ = theta_hat[0]\n",
    "        self.coef_ = theta_hat[1:]\n",
    "        \n",
    "    def early_stop(self, epoch, theta_hat, X_train, y_train, X_val, y_val, n_iter_no_change):\n",
    "        # on training data\n",
    "        y_train_pred = self.softmax(np.dot(X_train, theta_hat))\n",
    "        y_train_pred = np.argmax(y_train_pred, axis=1)\n",
    "        y_train = np.argmax(y_train, axis=1)\n",
    "        confusion = confusion_matrix(y_train, y_train_pred)\n",
    "        accuracy = np.sum(confusion.diagonal())/np.sum(confusion)\n",
    "        # storing training accuracy\n",
    "        self.training_scores.append(accuracy)\n",
    "        \n",
    "        # on validation data\n",
    "        y_val_pred = self.softmax(np.dot(X_val, theta_hat))\n",
    "        y_val_pred = np.argmax(y_val_pred, axis=1)\n",
    "        y_val = np.argmax(y_val, axis=1)\n",
    "        confusion = confusion_matrix(y_val, y_val_pred)\n",
    "        accuracy = np.sum(confusion.diagonal())/np.sum(confusion)\n",
    "        # storing validation accuracy\n",
    "        self.validation_scores.append(accuracy)\n",
    "        if len(self.validation_scores) < n_iter_no_change+1:\n",
    "            return False\n",
    "        \n",
    "        # Breaking condition\n",
    "        stop = False\n",
    "        end = len(self.validation_scores)-1\n",
    "        for i in range(end-n_iter_no_change, end):\n",
    "            if self.validation_scores[i] == self.validation_scores[i+1]:\n",
    "                stop = True\n",
    "            else:\n",
    "                stop = False\n",
    "                break\n",
    "        return stop\n",
    "    \n",
    "    # plots early stopping curve\n",
    "    def early_stopping_curve(self):\n",
    "        if self.validation_scores is None:\n",
    "            raise ValueError('Early stopping training not done!')\n",
    "        else:\n",
    "            error_training = [1 - val for val in self.training_scores]\n",
    "            error_validation = [1 - val for val in self.validation_scores]\n",
    "            plt.plot(error_training, c='r', label='training')\n",
    "            plt.plot(error_validation, c='b', label='validation')\n",
    "            plt.legend()\n",
    "            plt.title('Early-stopping curve')\n",
    "            plt.xlabel('Epoch')\n",
    "            plt.ylabel('1 - accuracy')\n",
    "            plt.show()\n",
    "            \n",
    "    # prediction \n",
    "    def predict(self, X):\n",
    "        '''also adding ones column into test data: gives intercept''' \n",
    "        X = np.c_[np.ones((X.shape[0], 1)), X]\n",
    "        \n",
    "        if self.theta is None:\n",
    "            raise ValueError('The model is not fitted yet!')\n",
    "            \n",
    "        return self.softmax(np.dot(X, self.theta))"
   ]
  },
  {
   "cell_type": "code",
   "execution_count": 159,
   "metadata": {},
   "outputs": [],
   "source": [
    "model2 = StochasticSoftmaxRegression()\n",
    "\n",
    "model2.fit(X_train, y_train, learning_rate=0.01, epochs=1000, tol=None, regularizer='l1',\n",
    "               early_stopping=False, lambd=0.1)"
   ]
  },
  {
   "cell_type": "code",
   "execution_count": 160,
   "metadata": {},
   "outputs": [
    {
     "name": "stdout",
     "output_type": "stream",
     "text": [
      "confusion matrix: \n",
      " [[10.  0.  0.]\n",
      " [ 0.  6.  6.]\n",
      " [ 0.  0.  8.]]\n"
     ]
    }
   ],
   "source": [
    "y_pred2 = np.argmax(model2.predict(X_test), axis=1)\n",
    "conf_matrix = confusion_matrix(np.argmax(y_test, axis=1), y_pred2)\n",
    "print('confusion matrix: \\n', conf_matrix)"
   ]
  },
  {
   "cell_type": "code",
   "execution_count": 161,
   "metadata": {},
   "outputs": [
    {
     "name": "stdout",
     "output_type": "stream",
     "text": [
      "Accuracy:  0.8\n"
     ]
    }
   ],
   "source": [
    "accuracy = np.sum(conf_matrix.diagonal())/np.sum(conf_matrix)\n",
    "print('Accuracy: ', accuracy)"
   ]
  },
  {
   "cell_type": "code",
   "execution_count": 162,
   "metadata": {},
   "outputs": [],
   "source": [
    "# achieved similar accuracy with the Stochastic Softmax Regression to that of Softmax Regression"
   ]
  },
  {
   "cell_type": "markdown",
   "metadata": {},
   "source": [
    "***Done!***"
   ]
  }
 ],
 "metadata": {
  "kernelspec": {
   "display_name": "Python 3",
   "language": "python",
   "name": "python3"
  },
  "language_info": {
   "codemirror_mode": {
    "name": "ipython",
    "version": 3
   },
   "file_extension": ".py",
   "mimetype": "text/x-python",
   "name": "python",
   "nbconvert_exporter": "python",
   "pygments_lexer": "ipython3",
   "version": "3.6.7"
  }
 },
 "nbformat": 4,
 "nbformat_minor": 2
}
